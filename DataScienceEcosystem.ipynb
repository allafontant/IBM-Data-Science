{
 "cells": [
  {
   "cell_type": "markdown",
   "id": "3439d1ba-4c66-4d04-a590-a1f393380cf3",
   "metadata": {},
   "source": [
    "# Data Science Tools and Ecosystem"
   ]
  },
  {
   "cell_type": "markdown",
   "id": "0471845e-a32c-4145-8ba2-14fe6de6ddcc",
   "metadata": {},
   "source": [
    "In this notebook, Data Science Tools and Ecosystem are summarized."
   ]
  },
  {
   "cell_type": "markdown",
   "id": "c87e3836-b665-49e3-9a25-dc435e32bc8e",
   "metadata": {
    "tags": []
   },
   "source": [
    "__Objectives:__\n",
    "* List popular languages for Data Science\n",
    "* List popular tools used for Data Science\n",
    "* List popular libraries for Data Science\n",
    "* Introduce arithmetic expressions in Jupyter"
   ]
  },
  {
   "cell_type": "markdown",
   "id": "d9741870-5faa-4311-9530-7e87a8fc9ce1",
   "metadata": {},
   "source": [
    "Some of the popular languages that Data Scientists use are: \n",
    "1. Python\n",
    "2. R\n",
    "3. SQL\n",
    "4. Julia"
   ]
  },
  {
   "cell_type": "markdown",
   "id": "bc260a4d-0751-48ae-ba99-9dcbbad14994",
   "metadata": {},
   "source": [
    "Some of the commonly used libraries used by Data Scientists include:\n",
    "1. Pandas\n",
    "2. NumPy\n",
    "3. SciPi\n",
    "4. Matplotlib"
   ]
  },
  {
   "cell_type": "markdown",
   "id": "c742b102-7d04-4afc-9978-da84d3a0d830",
   "metadata": {},
   "source": [
    "|Data Science Tools|\n",
    "|-|\n",
    "|Jupyter|\n",
    "|Visual Studios|\n",
    "|Eclipse|"
   ]
  },
  {
   "cell_type": "markdown",
   "id": "29552c1f-a2b3-4583-9fa2-18ebabeb9930",
   "metadata": {},
   "source": [
    "### Below are a few examples of evaluating arithmetic expressions in Python"
   ]
  },
  {
   "cell_type": "code",
   "execution_count": 1,
   "id": "8b705f95-b49e-4c1e-be30-4c6aef7453a3",
   "metadata": {
    "tags": []
   },
   "outputs": [
    {
     "data": {
      "text/plain": [
       "17"
      ]
     },
     "execution_count": 1,
     "metadata": {},
     "output_type": "execute_result"
    }
   ],
   "source": [
    "# This a simple artihmetic expression to multiply then add intigers\n",
    "(3*4)+5"
   ]
  },
  {
   "cell_type": "code",
   "execution_count": 2,
   "id": "6cae5306-9833-4f4d-bb38-41f7f19794e8",
   "metadata": {
    "tags": []
   },
   "outputs": [
    {
     "data": {
      "text/plain": [
       "3.3333333333333335"
      ]
     },
     "execution_count": 2,
     "metadata": {},
     "output_type": "execute_result"
    }
   ],
   "source": [
    "# This will convert 200 minutes to hours by dividing by 60\n",
    "200/60"
   ]
  },
  {
   "cell_type": "markdown",
   "id": "098f9ddd-bc01-4943-b3b9-c6b174ba9c76",
   "metadata": {},
   "source": [
    "## Author\n",
    "Alec Lafontant"
   ]
  },
  {
   "cell_type": "code",
   "execution_count": null,
   "id": "1021d31e-a624-4a6a-8a54-c7121fa8662a",
   "metadata": {},
   "outputs": [],
   "source": []
  }
 ],
 "metadata": {
  "kernelspec": {
   "display_name": "Python",
   "language": "python",
   "name": "conda-env-python-py"
  },
  "language_info": {
   "codemirror_mode": {
    "name": "ipython",
    "version": 3
   },
   "file_extension": ".py",
   "mimetype": "text/x-python",
   "name": "python",
   "nbconvert_exporter": "python",
   "pygments_lexer": "ipython3",
   "version": "3.7.12"
  }
 },
 "nbformat": 4,
 "nbformat_minor": 5
}
